{
 "cells": [
  {
   "cell_type": "code",
   "execution_count": 1,
   "metadata": {},
   "outputs": [],
   "source": [
    "import random\n",
    "import time\n",
    "import numpy as np\n",
    "import ctypes\n",
    "import win32gui\n",
    "import win32api\n",
    "import win32con\n",
    "\n",
    "label = \"FlappyBird\""
   ]
  },
  {
   "cell_type": "code",
   "execution_count": 2,
   "metadata": {},
   "outputs": [],
   "source": [
    "hld = win32gui.FindWindow(None, label)\n"
   ]
  },
  {
   "cell_type": "code",
   "execution_count": 23,
   "metadata": {},
   "outputs": [
    {
     "data": {
      "text/plain": [
       "0L"
      ]
     },
     "execution_count": 23,
     "metadata": {},
     "output_type": "execute_result"
    }
   ],
   "source": [
    "\n",
    "win32api.SendMessage(hld, win32con.WM_KEYDOWN, win32con.VK_UP, 0)\n",
    "time.sleep(0.3)\n",
    "win32api.SendMessage(hld, win32con.WM_KEYUP, win32con.VK_UP, 0)"
   ]
  },
  {
   "cell_type": "code",
   "execution_count": 3,
   "metadata": {
    "collapsed": true
   },
   "outputs": [],
   "source": [
    "class RECT(ctypes.Structure): \n",
    "    _fields_ = [('left', ctypes.c_long), \n",
    "            ('top', ctypes.c_long), \n",
    "            ('right', ctypes.c_long), \n",
    "            ('bottom', ctypes.c_long)] \n",
    "    def __str__(self): \n",
    "        return str((self.left, self.top, self.right, self.bottom)) \n",
    "\n"
   ]
  },
  {
   "cell_type": "code",
   "execution_count": 19,
   "metadata": {},
   "outputs": [
    {
     "name": "stdout",
     "output_type": "stream",
     "text": [
      "38\n",
      "257\n"
     ]
    }
   ],
   "source": [
    "print win32con.VK_UP\n",
    "print win32con.WM_KEYUP"
   ]
  },
  {
   "cell_type": "code",
   "execution_count": 5,
   "metadata": {},
   "outputs": [
    {
     "data": {
      "text/plain": [
       "1"
      ]
     },
     "execution_count": 5,
     "metadata": {},
     "output_type": "execute_result"
    }
   ],
   "source": [
    "rect = RECT() \n",
    "ctypes.windll.user32.GetWindowRect(hld,ctypes.byref(rect)) "
   ]
  },
  {
   "cell_type": "code",
   "execution_count": 6,
   "metadata": {},
   "outputs": [
    {
     "data": {
      "text/plain": [
       "(26, 112, 316, 615)"
      ]
     },
     "execution_count": 6,
     "metadata": {},
     "output_type": "execute_result"
    }
   ],
   "source": [
    "(rect.left+2,rect.top+22,rect.right-2,rect.bottom-20)"
   ]
  },
  {
   "cell_type": "code",
   "execution_count": 13,
   "metadata": {},
   "outputs": [
    {
     "data": {
      "text/plain": [
       "0L"
      ]
     },
     "execution_count": 13,
     "metadata": {},
     "output_type": "execute_result"
    }
   ],
   "source": [
    "win32api.SendMessage(hld, win32con.WM_KEYUP, win32con.WM_KEYUP, 0)"
   ]
  },
  {
   "cell_type": "code",
   "execution_count": null,
   "metadata": {
    "collapsed": true
   },
   "outputs": [],
   "source": [
    "win32gui.SetForegroundWindow(hld)\n",
    "win32api.SendMessage(hld, win32con.KEYEVENTF_KEYUP, win32con.VK_RETURN, 0)\n",
    "win32api.keybd_event(32,0,0,0)\n",
    "win32api.keybd_event(32,0,win32con.KEYEVENTF_KEYUP,0)"
   ]
  }
 ],
 "metadata": {
  "anaconda-cloud": {},
  "kernelspec": {
   "display_name": "Python 2",
   "language": "python",
   "name": "python2"
  },
  "language_info": {
   "codemirror_mode": {
    "name": "ipython",
    "version": 2
   },
   "file_extension": ".py",
   "mimetype": "text/x-python",
   "name": "python",
   "nbconvert_exporter": "python",
   "pygments_lexer": "ipython2",
   "version": "2.7.12"
  }
 },
 "nbformat": 4,
 "nbformat_minor": 1
}
