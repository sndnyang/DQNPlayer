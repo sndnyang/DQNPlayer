{
 "cells": [
  {
   "cell_type": "code",
   "execution_count": 1,
   "metadata": {
    "collapsed": true
   },
   "outputs": [],
   "source": [
    "import random\n",
    "import time\n",
    "import numpy as np\n",
    "import ctypes\n",
    "import win32gui\n",
    "import win32api\n",
    "import win32con\n",
    "\n",
    "label = \"FlappyBird\""
   ]
  },
  {
   "cell_type": "code",
   "execution_count": 2,
   "metadata": {
    "collapsed": true
   },
   "outputs": [],
   "source": [
    "hld = win32gui.FindWindow(None, label)\n"
   ]
  },
  {
   "cell_type": "code",
   "execution_count": 27,
   "metadata": {},
   "outputs": [
    {
     "name": "stdout",
     "output_type": "stream",
     "text": [
      "1491991565.47\n",
      "0.0590000152588\n",
      "1491991565.53\n",
      "0.100000143051\n",
      "1491991565.63\n",
      "0.200000047684\n",
      "1491991565.73\n"
     ]
    }
   ],
   "source": [
    "now = time.time()\n",
    "print now\n",
    "win32api.SendMessage(hld, win32con.WM_KEYDOWN, win32con.VK_SPACE, 0)\n",
    "win32api.SendMessage(hld, win32con.WM_KEYUP, win32con.VK_SPACE, 0)\n",
    "\n",
    "print time.time()-now\n",
    "now = time.time()\n",
    "print now\n",
    "\n",
    "win32api.SendMessage(hld, win32con.WM_KEYDOWN, win32con.VK_UP, 0)\n",
    "win32api.SendMessage(hld, win32con.WM_KEYUP, win32con.VK_UP, 0)\n",
    "print time.time()-now\n",
    "print time.time()\n",
    "\n",
    "win32api.SendMessage(hld, win32con.WM_KEYDOWN, win32con.VK_SPACE, 0)\n",
    "win32api.SendMessage(hld, win32con.WM_KEYUP, win32con.VK_SPACE, 0)\n",
    "\n",
    "print time.time()-now\n",
    "now = time.time()\n",
    "print now"
   ]
  },
  {
   "cell_type": "code",
   "execution_count": 3,
   "metadata": {
    "collapsed": true
   },
   "outputs": [],
   "source": [
    "class RECT(ctypes.Structure): \n",
    "    _fields_ = [('left', ctypes.c_long), \n",
    "            ('top', ctypes.c_long), \n",
    "            ('right', ctypes.c_long), \n",
    "            ('bottom', ctypes.c_long)] \n",
    "    def __str__(self): \n",
    "        return str((self.left, self.top, self.right, self.bottom)) \n",
    "\n"
   ]
  },
  {
   "cell_type": "code",
   "execution_count": 19,
   "metadata": {},
   "outputs": [
    {
     "name": "stdout",
     "output_type": "stream",
     "text": [
      "38\n",
      "257\n"
     ]
    }
   ],
   "source": [
    "print win32con.VK_UP\n",
    "print win32con.WM_KEYUP"
   ]
  },
  {
   "cell_type": "code",
   "execution_count": 4,
   "metadata": {},
   "outputs": [
    {
     "data": {
      "text/plain": [
       "1"
      ]
     },
     "execution_count": 4,
     "metadata": {},
     "output_type": "execute_result"
    }
   ],
   "source": [
    "rect = RECT() \n",
    "ctypes.windll.user32.GetWindowRect(hld,ctypes.byref(rect)) "
   ]
  },
  {
   "cell_type": "code",
   "execution_count": 8,
   "metadata": {},
   "outputs": [
    {
     "data": {
      "text/plain": [
       "(15, 42, 303, 535)"
      ]
     },
     "execution_count": 8,
     "metadata": {},
     "output_type": "execute_result"
    }
   ],
   "source": [
    "(rect.left+3,rect.top+32,rect.right-3,rect.bottom-20)"
   ]
  },
  {
   "cell_type": "code",
   "execution_count": 13,
   "metadata": {},
   "outputs": [
    {
     "data": {
      "text/plain": [
       "0L"
      ]
     },
     "execution_count": 13,
     "metadata": {},
     "output_type": "execute_result"
    }
   ],
   "source": [
    "win32api.SendMessage(hld, win32con.WM_KEYUP, win32con.WM_KEYUP, 0)"
   ]
  },
  {
   "cell_type": "code",
   "execution_count": 4,
   "metadata": {},
   "outputs": [
    {
     "ename": "error",
     "evalue": "(0, 'SetForegroundWindow', 'No error message is available')",
     "output_type": "error",
     "traceback": [
      "\u001b[1;31m\u001b[0m",
      "\u001b[1;31merror\u001b[0mTraceback (most recent call last)",
      "\u001b[1;32m<ipython-input-4-47aebfca1868>\u001b[0m in \u001b[0;36m<module>\u001b[1;34m()\u001b[0m\n\u001b[1;32m----> 1\u001b[1;33m \u001b[0mwin32gui\u001b[0m\u001b[1;33m.\u001b[0m\u001b[0mSetForegroundWindow\u001b[0m\u001b[1;33m(\u001b[0m\u001b[0mhld\u001b[0m\u001b[1;33m)\u001b[0m\u001b[1;33m\u001b[0m\u001b[0m\n\u001b[0m\u001b[0;32m      2\u001b[0m \u001b[0mwin32api\u001b[0m\u001b[1;33m.\u001b[0m\u001b[0mSendMessage\u001b[0m\u001b[1;33m(\u001b[0m\u001b[0mhld\u001b[0m\u001b[1;33m,\u001b[0m \u001b[0mwin32con\u001b[0m\u001b[1;33m.\u001b[0m\u001b[0mKEYEVENTF_KEYUP\u001b[0m\u001b[1;33m,\u001b[0m \u001b[0mwin32con\u001b[0m\u001b[1;33m.\u001b[0m\u001b[0mVK_RETURN\u001b[0m\u001b[1;33m,\u001b[0m \u001b[1;36m0\u001b[0m\u001b[1;33m)\u001b[0m\u001b[1;33m\u001b[0m\u001b[0m\n\u001b[0;32m      3\u001b[0m \u001b[1;33m\u001b[0m\u001b[0m\n\u001b[0;32m      4\u001b[0m \u001b[1;32mfor\u001b[0m \u001b[0mi\u001b[0m \u001b[1;32min\u001b[0m \u001b[0mrange\u001b[0m\u001b[1;33m(\u001b[0m\u001b[1;36m10\u001b[0m\u001b[1;33m)\u001b[0m\u001b[1;33m:\u001b[0m\u001b[1;33m\u001b[0m\u001b[0m\n\u001b[0;32m      5\u001b[0m     \u001b[0mnow\u001b[0m \u001b[1;33m=\u001b[0m \u001b[0mtime\u001b[0m\u001b[1;33m.\u001b[0m\u001b[0mtime\u001b[0m\u001b[1;33m(\u001b[0m\u001b[1;33m)\u001b[0m\u001b[1;33m\u001b[0m\u001b[0m\n",
      "\u001b[1;31merror\u001b[0m: (0, 'SetForegroundWindow', 'No error message is available')"
     ]
    }
   ],
   "source": [
    "win32gui.SetForegroundWindow(hld)\n",
    "win32api.SendMessage(hld, win32con.KEYEVENTF_KEYUP, win32con.VK_RETURN, 0)\n",
    "\n",
    "for i in range(10):\n",
    "    now = time.time()\n",
    "    print now\n",
    "    win32api.keybd_event(32,0,0,0)\n",
    "    win32api.keybd_event(32,0,win32con.KEYEVENTF_KEYUP,0)"
   ]
  },
  {
   "cell_type": "code",
   "execution_count": null,
   "metadata": {
    "collapsed": true
   },
   "outputs": [],
   "source": []
  }
 ],
 "metadata": {
  "anaconda-cloud": {},
  "kernelspec": {
   "display_name": "Python 2",
   "language": "python",
   "name": "python2"
  },
  "language_info": {
   "codemirror_mode": {
    "name": "ipython",
    "version": 2
   },
   "file_extension": ".py",
   "mimetype": "text/x-python",
   "name": "python",
   "nbconvert_exporter": "python",
   "pygments_lexer": "ipython2",
   "version": "2.7.12"
  }
 },
 "nbformat": 4,
 "nbformat_minor": 1
}
