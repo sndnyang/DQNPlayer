{
 "cells": [
  {
   "cell_type": "code",
   "execution_count": 1,
   "metadata": {
    "collapsed": true
   },
   "outputs": [],
   "source": [
    "%matplotlib inline\n",
    "import cv2\n",
    "import numpy\n",
    "import matplotlib.pyplot as plot\n",
    "from PIL import ImageGrab"
   ]
  },
  {
   "cell_type": "code",
   "execution_count": 5,
   "metadata": {},
   "outputs": [],
   "source": [
    "cap = cv2.VideoCapture('http://127.0.0.1:8080/live')"
   ]
  },
  {
   "cell_type": "code",
   "execution_count": 6,
   "metadata": {},
   "outputs": [],
   "source": [
    "ret, frame = cap.read()\n"
   ]
  },
  {
   "cell_type": "code",
   "execution_count": 7,
   "metadata": {},
   "outputs": [
    {
     "name": "stdout",
     "output_type": "stream",
     "text": [
      "True\n"
     ]
    }
   ],
   "source": [
    "print ret"
   ]
  },
  {
   "cell_type": "code",
   "execution_count": 8,
   "metadata": {},
   "outputs": [
    {
     "name": "stdout",
     "output_type": "stream",
     "text": [
      "[[[142 135 146]\n",
      "  [144 137 148]\n",
      "  [146 139 150]\n",
      "  ..., \n",
      "  [173 174 231]\n",
      "  [139 139 194]\n",
      "  [129 129 184]]\n",
      "\n",
      " [[144 137 148]\n",
      "  [145 138 149]\n",
      "  [147 140 151]\n",
      "  ..., \n",
      "  [171 172 229]\n",
      "  [139 139 194]\n",
      "  [129 129 184]]\n",
      "\n",
      " [[146 139 150]\n",
      "  [147 140 151]\n",
      "  [149 142 153]\n",
      "  ..., \n",
      "  [169 172 229]\n",
      "  [139 139 194]\n",
      "  [130 130 185]]\n",
      "\n",
      " ..., \n",
      " [[  9  56  58]\n",
      "  [ 11  58  60]\n",
      "  [ 15  62  64]\n",
      "  ..., \n",
      "  [ 48  75  71]\n",
      "  [ 48  75  71]\n",
      "  [ 48  75  71]]\n",
      "\n",
      " [[  9  56  58]\n",
      "  [ 11  58  60]\n",
      "  [ 15  62  64]\n",
      "  ..., \n",
      "  [122 149 145]\n",
      "  [122 149 145]\n",
      "  [122 149 145]]\n",
      "\n",
      " [[  9  56  58]\n",
      "  [ 11  58  60]\n",
      "  [ 15  62  64]\n",
      "  ..., \n",
      "  [ 15  42  38]\n",
      "  [ 15  42  38]\n",
      "  [ 15  42  38]]]\n"
     ]
    }
   ],
   "source": [
    "print frame"
   ]
  },
  {
   "cell_type": "code",
   "execution_count": 9,
   "metadata": {},
   "outputs": [],
   "source": [
    "# show a frame\n",
    "cv2.imshow(\"capture\", frame)"
   ]
  },
  {
   "cell_type": "code",
   "execution_count": 1,
   "metadata": {
    "collapsed": true
   },
   "outputs": [],
   "source": [
    "import time"
   ]
  },
  {
   "cell_type": "code",
   "execution_count": 3,
   "metadata": {},
   "outputs": [],
   "source": [
    "x = time.time()"
   ]
  },
  {
   "cell_type": "code",
   "execution_count": 4,
   "metadata": {},
   "outputs": [
    {
     "data": {
      "text/plain": [
       "6.551000118255615"
      ]
     },
     "execution_count": 4,
     "metadata": {},
     "output_type": "execute_result"
    }
   ],
   "source": [
    "time.time()-x"
   ]
  },
  {
   "cell_type": "code",
   "execution_count": null,
   "metadata": {
    "collapsed": true
   },
   "outputs": [],
   "source": []
  }
 ],
 "metadata": {
  "kernelspec": {
   "display_name": "Python 2",
   "language": "python",
   "name": "python2"
  },
  "language_info": {
   "codemirror_mode": {
    "name": "ipython",
    "version": 2
   },
   "file_extension": ".py",
   "mimetype": "text/x-python",
   "name": "python",
   "nbconvert_exporter": "python",
   "pygments_lexer": "ipython2",
   "version": "2.7.12"
  }
 },
 "nbformat": 4,
 "nbformat_minor": 1
}
